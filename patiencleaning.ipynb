{
 "cells": [
  {
   "cell_type": "markdown",
   "id": "f7c88d37-4c8f-4ec4-ae56-1a1824e8e63d",
   "metadata": {},
   "source": [
    "# Load relavent labiraries"
   ]
  },
  {
   "cell_type": "code",
   "execution_count": 27,
   "id": "694b840f-a16b-4b30-988c-7895d35091ec",
   "metadata": {},
   "outputs": [],
   "source": [
    "import pandas as pd\n",
    "import numpy as np\n",
    "import matplotlib.pyplot as plt\n",
    "import seaborn as sn\n",
    "sn.set()"
   ]
  },
  {
   "cell_type": "markdown",
   "id": "f752a5f9-2f7f-4962-9cb8-58937ff9b9b0",
   "metadata": {},
   "source": [
    "# load the data set"
   ]
  },
  {
   "cell_type": "code",
   "execution_count": 111,
   "id": "1402f7b9-62a3-4ed7-8df2-f11969a11494",
   "metadata": {},
   "outputs": [
    {
     "data": {
      "text/html": [
       "<div>\n",
       "<style scoped>\n",
       "    .dataframe tbody tr th:only-of-type {\n",
       "        vertical-align: middle;\n",
       "    }\n",
       "\n",
       "    .dataframe tbody tr th {\n",
       "        vertical-align: top;\n",
       "    }\n",
       "\n",
       "    .dataframe thead th {\n",
       "        text-align: right;\n",
       "    }\n",
       "</style>\n",
       "<table border=\"1\" class=\"dataframe\">\n",
       "  <thead>\n",
       "    <tr style=\"text-align: right;\">\n",
       "      <th></th>\n",
       "      <th>PatientID</th>\n",
       "      <th>Name</th>\n",
       "      <th>Age</th>\n",
       "      <th>Diagnosis</th>\n",
       "      <th>LabResult</th>\n",
       "    </tr>\n",
       "  </thead>\n",
       "  <tbody>\n",
       "    <tr>\n",
       "      <th>0</th>\n",
       "      <td>1001</td>\n",
       "      <td>Patient_1</td>\n",
       "      <td>20</td>\n",
       "      <td>Diabetes</td>\n",
       "      <td>167</td>\n",
       "    </tr>\n",
       "    <tr>\n",
       "      <th>1</th>\n",
       "      <td>1002</td>\n",
       "      <td>Patient_2</td>\n",
       "      <td>74</td>\n",
       "      <td>Diabetes</td>\n",
       "      <td>153</td>\n",
       "    </tr>\n",
       "    <tr>\n",
       "      <th>2</th>\n",
       "      <td>1003</td>\n",
       "      <td>Patient_3</td>\n",
       "      <td>40</td>\n",
       "      <td>Hypertension</td>\n",
       "      <td>196</td>\n",
       "    </tr>\n",
       "    <tr>\n",
       "      <th>3</th>\n",
       "      <td>1004</td>\n",
       "      <td>Patient_4</td>\n",
       "      <td>23</td>\n",
       "      <td>NaN</td>\n",
       "      <td>157</td>\n",
       "    </tr>\n",
       "    <tr>\n",
       "      <th>4</th>\n",
       "      <td>1005</td>\n",
       "      <td>Patient_5</td>\n",
       "      <td>35</td>\n",
       "      <td>Diabetes</td>\n",
       "      <td>115</td>\n",
       "    </tr>\n",
       "  </tbody>\n",
       "</table>\n",
       "</div>"
      ],
      "text/plain": [
       "   PatientID       Name  Age     Diagnosis  LabResult\n",
       "0       1001  Patient_1   20      Diabetes        167\n",
       "1       1002  Patient_2   74      Diabetes        153\n",
       "2       1003  Patient_3   40  Hypertension        196\n",
       "3       1004  Patient_4   23           NaN        157\n",
       "4       1005  Patient_5   35      Diabetes        115"
      ]
     },
     "execution_count": 111,
     "metadata": {},
     "output_type": "execute_result"
    }
   ],
   "source": [
    "Data = pd.read_csv('patients.csv')\n",
    "Data.head()"
   ]
  },
  {
   "cell_type": "code",
   "execution_count": 113,
   "id": "98e06cb4-63de-40be-bb5c-c186a84b8e4a",
   "metadata": {},
   "outputs": [
    {
     "data": {
      "text/html": [
       "<div>\n",
       "<style scoped>\n",
       "    .dataframe tbody tr th:only-of-type {\n",
       "        vertical-align: middle;\n",
       "    }\n",
       "\n",
       "    .dataframe tbody tr th {\n",
       "        vertical-align: top;\n",
       "    }\n",
       "\n",
       "    .dataframe thead th {\n",
       "        text-align: right;\n",
       "    }\n",
       "</style>\n",
       "<table border=\"1\" class=\"dataframe\">\n",
       "  <thead>\n",
       "    <tr style=\"text-align: right;\">\n",
       "      <th></th>\n",
       "      <th>PatientID</th>\n",
       "      <th>Name</th>\n",
       "      <th>Age</th>\n",
       "      <th>Diagnosis</th>\n",
       "      <th>LabResult</th>\n",
       "    </tr>\n",
       "  </thead>\n",
       "  <tbody>\n",
       "    <tr>\n",
       "      <th>count</th>\n",
       "      <td>100.000000</td>\n",
       "      <td>100</td>\n",
       "      <td>100.000000</td>\n",
       "      <td>79</td>\n",
       "      <td>100.000000</td>\n",
       "    </tr>\n",
       "    <tr>\n",
       "      <th>unique</th>\n",
       "      <td>NaN</td>\n",
       "      <td>100</td>\n",
       "      <td>NaN</td>\n",
       "      <td>4</td>\n",
       "      <td>NaN</td>\n",
       "    </tr>\n",
       "    <tr>\n",
       "      <th>top</th>\n",
       "      <td>NaN</td>\n",
       "      <td>Patient_1</td>\n",
       "      <td>NaN</td>\n",
       "      <td>Flu</td>\n",
       "      <td>NaN</td>\n",
       "    </tr>\n",
       "    <tr>\n",
       "      <th>freq</th>\n",
       "      <td>NaN</td>\n",
       "      <td>1</td>\n",
       "      <td>NaN</td>\n",
       "      <td>27</td>\n",
       "      <td>NaN</td>\n",
       "    </tr>\n",
       "    <tr>\n",
       "      <th>mean</th>\n",
       "      <td>1050.500000</td>\n",
       "      <td>NaN</td>\n",
       "      <td>48.220000</td>\n",
       "      <td>NaN</td>\n",
       "      <td>140.340000</td>\n",
       "    </tr>\n",
       "    <tr>\n",
       "      <th>std</th>\n",
       "      <td>29.011492</td>\n",
       "      <td>NaN</td>\n",
       "      <td>17.538172</td>\n",
       "      <td>NaN</td>\n",
       "      <td>36.387149</td>\n",
       "    </tr>\n",
       "    <tr>\n",
       "      <th>min</th>\n",
       "      <td>1001.000000</td>\n",
       "      <td>NaN</td>\n",
       "      <td>20.000000</td>\n",
       "      <td>NaN</td>\n",
       "      <td>80.000000</td>\n",
       "    </tr>\n",
       "    <tr>\n",
       "      <th>25%</th>\n",
       "      <td>1025.750000</td>\n",
       "      <td>NaN</td>\n",
       "      <td>35.750000</td>\n",
       "      <td>NaN</td>\n",
       "      <td>108.000000</td>\n",
       "    </tr>\n",
       "    <tr>\n",
       "      <th>50%</th>\n",
       "      <td>1050.500000</td>\n",
       "      <td>NaN</td>\n",
       "      <td>47.000000</td>\n",
       "      <td>NaN</td>\n",
       "      <td>137.000000</td>\n",
       "    </tr>\n",
       "    <tr>\n",
       "      <th>75%</th>\n",
       "      <td>1075.250000</td>\n",
       "      <td>NaN</td>\n",
       "      <td>62.250000</td>\n",
       "      <td>NaN</td>\n",
       "      <td>172.000000</td>\n",
       "    </tr>\n",
       "    <tr>\n",
       "      <th>max</th>\n",
       "      <td>1100.000000</td>\n",
       "      <td>NaN</td>\n",
       "      <td>78.000000</td>\n",
       "      <td>NaN</td>\n",
       "      <td>199.000000</td>\n",
       "    </tr>\n",
       "  </tbody>\n",
       "</table>\n",
       "</div>"
      ],
      "text/plain": [
       "          PatientID       Name         Age Diagnosis   LabResult\n",
       "count    100.000000        100  100.000000        79  100.000000\n",
       "unique          NaN        100         NaN         4         NaN\n",
       "top             NaN  Patient_1         NaN       Flu         NaN\n",
       "freq            NaN          1         NaN        27         NaN\n",
       "mean    1050.500000        NaN   48.220000       NaN  140.340000\n",
       "std       29.011492        NaN   17.538172       NaN   36.387149\n",
       "min     1001.000000        NaN   20.000000       NaN   80.000000\n",
       "25%     1025.750000        NaN   35.750000       NaN  108.000000\n",
       "50%     1050.500000        NaN   47.000000       NaN  137.000000\n",
       "75%     1075.250000        NaN   62.250000       NaN  172.000000\n",
       "max     1100.000000        NaN   78.000000       NaN  199.000000"
      ]
     },
     "execution_count": 113,
     "metadata": {},
     "output_type": "execute_result"
    }
   ],
   "source": [
    "Data.describe(include = 'all')"
   ]
  },
  {
   "cell_type": "code",
   "execution_count": 115,
   "id": "6a4cf5ed-49c8-437a-b40b-dc7e540c3c8a",
   "metadata": {},
   "outputs": [
    {
     "name": "stdout",
     "output_type": "stream",
     "text": [
      "Data Before removing missing values: (100, 5)\n"
     ]
    }
   ],
   "source": [
    "print('Data Before removing missing values:',Data.shape)"
   ]
  },
  {
   "cell_type": "markdown",
   "id": "a103ec73-d382-4d6d-bbb8-ea2aa7f60e77",
   "metadata": {},
   "source": [
    "# checking is their mising values"
   ]
  },
  {
   "cell_type": "code",
   "execution_count": 118,
   "id": "34f1fd5e-fb72-4efe-be87-306abadc82a5",
   "metadata": {},
   "outputs": [
    {
     "data": {
      "text/plain": [
       "PatientID     0\n",
       "Name          0\n",
       "Age           0\n",
       "Diagnosis    21\n",
       "LabResult     0\n",
       "dtype: int64"
      ]
     },
     "execution_count": 118,
     "metadata": {},
     "output_type": "execute_result"
    }
   ],
   "source": [
    "Data.isnull().sum()"
   ]
  },
  {
   "cell_type": "markdown",
   "id": "1d1d936d-54ed-4181-aa8b-560005fa22b2",
   "metadata": {},
   "source": [
    "# removing missing values"
   ]
  },
  {
   "cell_type": "code",
   "execution_count": 121,
   "id": "b5a0800d-2284-447c-94e2-64bb5de5933c",
   "metadata": {},
   "outputs": [],
   "source": [
    "Data = Data.dropna(axis = 0)"
   ]
  },
  {
   "cell_type": "code",
   "execution_count": 123,
   "id": "de742b60-6009-49f9-ba16-25802bb76cc1",
   "metadata": {},
   "outputs": [
    {
     "data": {
      "text/plain": [
       "PatientID    0\n",
       "Name         0\n",
       "Age          0\n",
       "Diagnosis    0\n",
       "LabResult    0\n",
       "dtype: int64"
      ]
     },
     "execution_count": 123,
     "metadata": {},
     "output_type": "execute_result"
    }
   ],
   "source": [
    "Data.isnull().sum()"
   ]
  },
  {
   "cell_type": "code",
   "execution_count": 125,
   "id": "d4e0b47e-adf3-45ea-b405-12d8407be3eb",
   "metadata": {},
   "outputs": [
    {
     "name": "stdout",
     "output_type": "stream",
     "text": [
      "Data Before removing missing values: (79, 5)\n"
     ]
    }
   ],
   "source": [
    "print('Data Before removing missing values:',Data.shape)"
   ]
  },
  {
   "cell_type": "code",
   "execution_count": 127,
   "id": "c882086e-8212-4a5b-b508-4afe54c3af7f",
   "metadata": {},
   "outputs": [
    {
     "data": {
      "text/plain": [
       "array(['Diabetes', 'Hypertension', 'Flu', 'Common Cold'], dtype=object)"
      ]
     },
     "execution_count": 127,
     "metadata": {},
     "output_type": "execute_result"
    }
   ],
   "source": [
    "Data['Diagnosis'].unique()"
   ]
  },
  {
   "cell_type": "code",
   "execution_count": 129,
   "id": "c96dea64-8a0c-446f-b14a-ff2e58485f76",
   "metadata": {},
   "outputs": [],
   "source": [
    "data_mapped = Data.copy()"
   ]
  },
  {
   "cell_type": "markdown",
   "id": "919789e2-99d0-45f0-b045-87aed166c922",
   "metadata": {},
   "source": [
    "# encoding diagnosis column into numbers"
   ]
  },
  {
   "cell_type": "code",
   "execution_count": 131,
   "id": "79abc352-651c-4dfe-be8c-c6098a5db081",
   "metadata": {},
   "outputs": [
    {
     "data": {
      "text/html": [
       "<div>\n",
       "<style scoped>\n",
       "    .dataframe tbody tr th:only-of-type {\n",
       "        vertical-align: middle;\n",
       "    }\n",
       "\n",
       "    .dataframe tbody tr th {\n",
       "        vertical-align: top;\n",
       "    }\n",
       "\n",
       "    .dataframe thead th {\n",
       "        text-align: right;\n",
       "    }\n",
       "</style>\n",
       "<table border=\"1\" class=\"dataframe\">\n",
       "  <thead>\n",
       "    <tr style=\"text-align: right;\">\n",
       "      <th></th>\n",
       "      <th>PatientID</th>\n",
       "      <th>Name</th>\n",
       "      <th>Age</th>\n",
       "      <th>Diagnosis</th>\n",
       "      <th>LabResult</th>\n",
       "      <th>Diagnosis_encoded</th>\n",
       "    </tr>\n",
       "  </thead>\n",
       "  <tbody>\n",
       "    <tr>\n",
       "      <th>0</th>\n",
       "      <td>1001</td>\n",
       "      <td>Patient_1</td>\n",
       "      <td>20</td>\n",
       "      <td>Diabetes</td>\n",
       "      <td>167</td>\n",
       "      <td>0</td>\n",
       "    </tr>\n",
       "    <tr>\n",
       "      <th>1</th>\n",
       "      <td>1002</td>\n",
       "      <td>Patient_2</td>\n",
       "      <td>74</td>\n",
       "      <td>Diabetes</td>\n",
       "      <td>153</td>\n",
       "      <td>0</td>\n",
       "    </tr>\n",
       "    <tr>\n",
       "      <th>2</th>\n",
       "      <td>1003</td>\n",
       "      <td>Patient_3</td>\n",
       "      <td>40</td>\n",
       "      <td>Hypertension</td>\n",
       "      <td>196</td>\n",
       "      <td>1</td>\n",
       "    </tr>\n",
       "    <tr>\n",
       "      <th>4</th>\n",
       "      <td>1005</td>\n",
       "      <td>Patient_5</td>\n",
       "      <td>35</td>\n",
       "      <td>Diabetes</td>\n",
       "      <td>115</td>\n",
       "      <td>0</td>\n",
       "    </tr>\n",
       "    <tr>\n",
       "      <th>5</th>\n",
       "      <td>1006</td>\n",
       "      <td>Patient_6</td>\n",
       "      <td>54</td>\n",
       "      <td>Flu</td>\n",
       "      <td>98</td>\n",
       "      <td>2</td>\n",
       "    </tr>\n",
       "  </tbody>\n",
       "</table>\n",
       "</div>"
      ],
      "text/plain": [
       "   PatientID       Name  Age     Diagnosis  LabResult  Diagnosis_encoded\n",
       "0       1001  Patient_1   20      Diabetes        167                  0\n",
       "1       1002  Patient_2   74      Diabetes        153                  0\n",
       "2       1003  Patient_3   40  Hypertension        196                  1\n",
       "4       1005  Patient_5   35      Diabetes        115                  0\n",
       "5       1006  Patient_6   54           Flu         98                  2"
      ]
     },
     "execution_count": 131,
     "metadata": {},
     "output_type": "execute_result"
    }
   ],
   "source": [
    "data_mapped['Diagnosis_encoded'] = data_mapped['Diagnosis'].map({'Diabetes':0,'Hypertension':1,'Flu':2,'Common Cold':3})\n",
    "data_mapped.head()"
   ]
  },
  {
   "cell_type": "code",
   "execution_count": 133,
   "id": "6205f574-82a5-495e-b5b9-a9a979e94692",
   "metadata": {},
   "outputs": [
    {
     "data": {
      "text/plain": [
       "PatientID             int64\n",
       "Name                 object\n",
       "Age                   int64\n",
       "Diagnosis            object\n",
       "LabResult             int64\n",
       "Diagnosis_encoded     int64\n",
       "dtype: object"
      ]
     },
     "execution_count": 133,
     "metadata": {},
     "output_type": "execute_result"
    }
   ],
   "source": [
    "data_mapped.dtypes"
   ]
  },
  {
   "cell_type": "markdown",
   "id": "ecaa2d2a-e1bf-4dc7-b03c-9c19735d029a",
   "metadata": {},
   "source": [
    "# saving the cleaned data"
   ]
  },
  {
   "cell_type": "code",
   "execution_count": 135,
   "id": "1f57b7e4-9aed-4b50-8875-7e3fa185dee6",
   "metadata": {},
   "outputs": [],
   "source": [
    "data_mapped.to_csv('patient_cleaned.csv', index=False)"
   ]
  }
 ],
 "metadata": {
  "kernelspec": {
   "display_name": "Python [conda env:base] *",
   "language": "python",
   "name": "conda-base-py"
  },
  "language_info": {
   "codemirror_mode": {
    "name": "ipython",
    "version": 3
   },
   "file_extension": ".py",
   "mimetype": "text/x-python",
   "name": "python",
   "nbconvert_exporter": "python",
   "pygments_lexer": "ipython3",
   "version": "3.12.7"
  }
 },
 "nbformat": 4,
 "nbformat_minor": 5
}
